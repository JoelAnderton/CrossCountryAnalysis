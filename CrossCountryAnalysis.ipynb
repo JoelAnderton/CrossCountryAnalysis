{
  "nbformat": 4,
  "nbformat_minor": 0,
  "metadata": {
    "colab": {
      "name": "CrossCountryAnalysis.ipynb",
      "provenance": [],
      "collapsed_sections": [],
      "authorship_tag": "ABX9TyOqq64XkW6l+zyaGuJ4L5KC",
      "include_colab_link": true
    },
    "kernelspec": {
      "name": "python3",
      "display_name": "Python 3"
    }
  },
  "cells": [
    {
      "cell_type": "markdown",
      "metadata": {
        "id": "view-in-github",
        "colab_type": "text"
      },
      "source": [
        "<a href=\"https://colab.research.google.com/github/JoelAnderton/CrossCountryAnalysis/blob/master/CrossCountryAnalysis.ipynb\" target=\"_parent\"><img src=\"https://colab.research.google.com/assets/colab-badge.svg\" alt=\"Open In Colab\"/></a>"
      ]
    },
    {
      "cell_type": "markdown",
      "metadata": {
        "id": "Bhc3bG3i1GLu",
        "colab_type": "text"
      },
      "source": [
        "# **Cross Country Statistics**\n",
        " An anaylsis of a real cross crountry race results of students 3rd to 8th grade in Pittsburgh PA."
      ]
    },
    {
      "cell_type": "markdown",
      "metadata": {
        "id": "Q3SPn6pr1iv7",
        "colab_type": "text"
      },
      "source": [
        "# Import data:"
      ]
    },
    {
      "cell_type": "code",
      "metadata": {
        "id": "yF9_CE_0ylux",
        "colab_type": "code",
        "colab": {}
      },
      "source": [
        "import pandas as pd\n",
        "import matplotlib.pyplot as plt\n",
        "import seaborn as sns\n",
        "\n",
        "race_results = pd.read_excel('RaceResults_2019.9.27.xlsx')"
      ],
      "execution_count": null,
      "outputs": []
    },
    {
      "cell_type": "code",
      "metadata": {
        "id": "5wOYgBBN06sD",
        "colab_type": "code",
        "colab": {
          "base_uri": "https://localhost:8080/",
          "height": 153
        },
        "outputId": "663dd903-8dea-4b7b-a2ec-efecfaa396a8"
      },
      "source": [
        "print(race_results.head())"
      ],
      "execution_count": 11,
      "outputs": [
        {
          "output_type": "stream",
          "text": [
            "   RunnerID B/G JV/V  ... Minutes_per_Mile Seconds_per_Mile Inactive\n",
            "0       115   B   JV  ...                7               23      NaN\n",
            "1       119   B   JV  ...                6               47      NaN\n",
            "2       138   B   JV  ...               10               14      NaN\n",
            "3       107   B   JV  ...                8               23      NaN\n",
            "4       140   B   JV  ...                7                0      NaN\n",
            "\n",
            "[5 rows x 15 columns]\n"
          ],
          "name": "stdout"
        }
      ]
    },
    {
      "cell_type": "markdown",
      "metadata": {
        "id": "zTvBLklF2Hf2",
        "colab_type": "text"
      },
      "source": [
        "# Find all column names"
      ]
    },
    {
      "cell_type": "code",
      "metadata": {
        "id": "Aoy-zu6d2AB2",
        "colab_type": "code",
        "colab": {
          "base_uri": "https://localhost:8080/",
          "height": 102
        },
        "outputId": "62c72051-cd63-4bc5-fea6-7bd93d6779fb"
      },
      "source": [
        "print(race_results.columns)"
      ],
      "execution_count": 13,
      "outputs": [
        {
          "output_type": "stream",
          "text": [
            "Index(['RunnerID', 'B/G', 'JV/V', 'CourseName', 'Pace', 'Time', 'Date',\n",
            "       'Minutes', 'Seconds', 'Distance', 'TotalSeconds',\n",
            "       'Total_Seconds_per_Mile', 'Minutes_per_Mile', 'Seconds_per_Mile',\n",
            "       'Inactive'],\n",
            "      dtype='object')\n"
          ],
          "name": "stdout"
        }
      ]
    },
    {
      "cell_type": "markdown",
      "metadata": {
        "id": "5op8TeD2043b",
        "colab_type": "text"
      },
      "source": [
        "# Basic descriptive stats of runners"
      ]
    },
    {
      "cell_type": "code",
      "metadata": {
        "id": "ma4VHnHUzUvL",
        "colab_type": "code",
        "colab": {
          "base_uri": "https://localhost:8080/",
          "height": 170
        },
        "outputId": "3970935b-96f0-4680-8fdc-37dab68edb79"
      },
      "source": [
        "race_results['Minutes_per_Mile_decimal'] = race_results['Total_Seconds_per_Mile'] / 60\n",
        "print(race_results['Minutes_per_Mile_decimal'].describe())"
      ],
      "execution_count": 27,
      "outputs": [
        {
          "output_type": "stream",
          "text": [
            "count    55.000000\n",
            "mean      8.808312\n",
            "std       1.477471\n",
            "min       6.619048\n",
            "25%       7.871429\n",
            "50%       8.476190\n",
            "75%       9.561905\n",
            "max      13.609524\n",
            "Name: Minutes_per_Mile_decimal, dtype: float64\n"
          ],
          "name": "stdout"
        }
      ]
    },
    {
      "cell_type": "markdown",
      "metadata": {
        "id": "N3SJpyfp0oSH",
        "colab_type": "text"
      },
      "source": [
        "# **Find the distribution of the paces of all the runners**"
      ]
    },
    {
      "cell_type": "code",
      "metadata": {
        "id": "KtK-AK7F0Hyx",
        "colab_type": "code",
        "colab": {
          "base_uri": "https://localhost:8080/",
          "height": 279
        },
        "outputId": "b2157a74-a088-4734-d16f-90a30cfea9cf"
      },
      "source": [
        "sns.distplot(race_results['Minutes_per_Mile_decimal'], kde=False)\n",
        "plt.xlabel('Pace(minutes)')\n",
        "plt.ylabel('Number of Runners')\n",
        "plt.show();"
      ],
      "execution_count": 29,
      "outputs": [
        {
          "output_type": "display_data",
          "data": {
            "image/png": "[encoded data removed]",
            "text/plain": [
              "<Figure size 432x288 with 1 Axes>"
            ]
          },
          "metadata": {
            "tags": []
          }
        }
      ]
    },
    {
      "cell_type": "markdown",
      "metadata": {
        "id": "mD5FtvDl2uWe",
        "colab_type": "text"
      },
      "source": [
        "## **Find the position of each runner relative to each other**\n",
        "We can use a \"swarm plot\" to plot each runner's pace."
      ]
    },
    {
      "cell_type": "code",
      "metadata": {
        "id": "9YlWJwok0Wvq",
        "colab_type": "code",
        "colab": {
          "base_uri": "https://localhost:8080/",
          "height": 279
        },
        "outputId": "dfd9972e-2494-47b7-94ec-a06898e9a41b"
      },
      "source": [
        "sns.set_style('white')\n",
        "sns.swarmplot(x='Minutes_per_Mile_decimal', data=race_results, hue='B/G')\n",
        "plt.xlabel('Pace(minutes)')\n",
        "plt.show();"
      ],
      "execution_count": 31,
      "outputs": [
        {
          "output_type": "display_data",
          "data": {
            "image/png": "[encoded data removed]",
            "text/plain": [
              "<Figure size 432x288 with 1 Axes>"
            ]
          },
          "metadata": {
            "tags": []
          }
        }
      ]
    },
    {
      "cell_type": "markdown",
      "metadata": {
        "id": "LkqqFoQY588S",
        "colab_type": "text"
      },
      "source": [
        "# **Split the team into JV and Varsity**"
      ]
    },
    {
      "cell_type": "code",
      "metadata": {
        "id": "Vo73MoF-3JSN",
        "colab_type": "code",
        "colab": {
          "base_uri": "https://localhost:8080/",
          "height": 279
        },
        "outputId": "571a6c59-950c-404d-bee2-347493391cfd"
      },
      "source": [
        "sns.set_style('white')\n",
        "sns.swarmplot(x='Minutes_per_Mile_decimal', y='JV/V', data=race_results)\n",
        "plt.xlabel('Pace(minutes)')\n",
        "plt.show();"
      ],
      "execution_count": 32,
      "outputs": [
        {
          "output_type": "display_data",
          "data": {
            "image/png": "[encoded data removed]",
            "text/plain": [
              "<Figure size 432x288 with 1 Axes>"
            ]
          },
          "metadata": {
            "tags": []
          }
        }
      ]
    },
    {
      "cell_type": "markdown",
      "metadata": {
        "id": "97k0VyqC6mYG",
        "colab_type": "text"
      },
      "source": [
        "# **Show Boy and Girls**"
      ]
    },
    {
      "cell_type": "code",
      "metadata": {
        "id": "kb6UILOR6gER",
        "colab_type": "code",
        "colab": {
          "base_uri": "https://localhost:8080/",
          "height": 279
        },
        "outputId": "17bf31a7-20db-4598-a711-2a0be6010471"
      },
      "source": [
        "sns.set_style('white')\n",
        "sns.swarmplot(x='Minutes_per_Mile_decimal', y='JV/V', data=race_results, hue='B/G', palette = ['blue', 'pink'])\n",
        "plt.xlabel('Pace(minutes)')\n",
        "plt.show();"
      ],
      "execution_count": 34,
      "outputs": [
        {
          "output_type": "display_data",
          "data": {
            "image/png": "[encoded data removed]",
            "text/plain": [
              "<Figure size 432x288 with 1 Axes>"
            ]
          },
          "metadata": {
            "tags": []
          }
        }
      ]
    },
    {
      "cell_type": "markdown",
      "metadata": {
        "id": "Boj8XbU17sQy",
        "colab_type": "text"
      },
      "source": [
        "# Show by Grade"
      ]
    },
    {
      "cell_type": "code",
      "metadata": {
        "id": "l9ZyUnnM6zXO",
        "colab_type": "code",
        "colab": {}
      },
      "source": [
        ""
      ],
      "execution_count": null,
      "outputs": []
    }
  ]
}