{
  "nbformat": 4,
  "nbformat_minor": 0,
  "metadata": {
    "colab": {
      "name": "CrossCountryAnalysis.ipynb",
      "provenance": [],
      "collapsed_sections": [],
      "toc_visible": true,
      "authorship_tag": "ABX9TyM1dpMDn2nz/1FWRDUnm0vV",
      "include_colab_link": true
    },
    "kernelspec": {
      "name": "python3",
      "display_name": "Python 3"
    }
  },
  "cells": [
    {
      "cell_type": "markdown",
      "metadata": {
        "id": "view-in-github",
        "colab_type": "text"
      },
      "source": [
        "<a href=\"https://colab.research.google.com/github/JoelAnderton/CrossCountryAnalysis/blob/master/CrossCountryAnalysis.ipynb\" target=\"_parent\"><img src=\"https://colab.research.google.com/assets/colab-badge.svg\" alt=\"Open In Colab\"/></a>"
      ]
    },
    {
      "cell_type": "markdown",
      "metadata": {
        "id": "Bhc3bG3i1GLu",
        "colab_type": "text"
      },
      "source": [
        "# **Cross Country Statistics**\n",
        " An anaylsis of a real cross crountry race results of students 3rd to 8th grade in Pittsburgh PA."
      ]
    },
    {
      "cell_type": "markdown",
      "metadata": {
        "id": "Q3SPn6pr1iv7",
        "colab_type": "text"
      },
      "source": [
        "# Import data:"
      ]
    },
    {
      "cell_type": "code",
      "metadata": {
        "id": "yF9_CE_0ylux",
        "colab_type": "code",
        "colab": {
          "base_uri": "https://localhost:8080/",
          "height": 71
        },
        "outputId": "23cf84f6-953e-407a-b55e-227c0b8c3a17"
      },
      "source": [
        "import pandas as pd\n",
        "import matplotlib.pyplot as plt\n",
        "import seaborn as sns\n",
        "\n",
        "race_results = pd.read_excel('RaceResults_2019.9.27.xlsx')"
      ],
      "execution_count": 1,
      "outputs": [
        {
          "output_type": "stream",
          "text": [
            "/usr/local/lib/python3.6/dist-packages/statsmodels/tools/_testing.py:19: FutureWarning: pandas.util.testing is deprecated. Use the functions in the public API at pandas.testing instead.\n",
            "  import pandas.util.testing as tm\n"
          ],
          "name": "stderr"
        }
      ]
    },
    {
      "cell_type": "code",
      "metadata": {
        "id": "5wOYgBBN06sD",
        "colab_type": "code",
        "colab": {
          "base_uri": "https://localhost:8080/",
          "height": 153
        },
        "outputId": "fae28f54-e335-47a6-f958-562e0d2870e2"
      },
      "source": [
        "print(race_results.head())"
      ],
      "execution_count": 2,
      "outputs": [
        {
          "output_type": "stream",
          "text": [
            "  B/G JV/V  CourseName  ... CurrentGrade Minutes_per_Mile Seconds_per_Mile\n",
            "0   B   JV  Youthtowne  ...            6                7               23\n",
            "1   B   JV  Youthtowne  ...            7                6               47\n",
            "2   B   JV  Youthtowne  ...            5               10               14\n",
            "3   B   JV  Youthtowne  ...            4                8               23\n",
            "4   B   JV  Youthtowne  ...            5                7                0\n",
            "\n",
            "[5 rows x 17 columns]\n"
          ],
          "name": "stdout"
        }
      ]
    },
    {
      "cell_type": "markdown",
      "metadata": {
        "id": "zTvBLklF2Hf2",
        "colab_type": "text"
      },
      "source": [
        "# Find all column names"
      ]
    },
    {
      "cell_type": "code",
      "metadata": {
        "id": "Aoy-zu6d2AB2",
        "colab_type": "code",
        "colab": {
          "base_uri": "https://localhost:8080/",
          "height": 102
        },
        "outputId": "23651d73-f0cc-4d5d-85b0-9ebfc870a5a8"
      },
      "source": [
        "print(race_results.columns)"
      ],
      "execution_count": 3,
      "outputs": [
        {
          "output_type": "stream",
          "text": [
            "Index(['B/G', 'JV/V', 'CourseName', 'Pace', 'Time', 'Date', 'Minutes',\n",
            "       'Seconds', 'RunnerID', 'CourseID', 'Distance', 'TotalSeconds',\n",
            "       'Total_Seconds_per_Mile', 'Inactive', 'CurrentGrade',\n",
            "       'Minutes_per_Mile', 'Seconds_per_Mile'],\n",
            "      dtype='object')\n"
          ],
          "name": "stdout"
        }
      ]
    },
    {
      "cell_type": "markdown",
      "metadata": {
        "id": "5op8TeD2043b",
        "colab_type": "text"
      },
      "source": [
        "# Basic descriptive stats of runners"
      ]
    },
    {
      "cell_type": "code",
      "metadata": {
        "id": "ma4VHnHUzUvL",
        "colab_type": "code",
        "colab": {
          "base_uri": "https://localhost:8080/",
          "height": 170
        },
        "outputId": "e72a0d14-296a-4f01-bbd5-7a42ba30ca19"
      },
      "source": [
        "race_results['Minutes_per_Mile_decimal'] = race_results['Total_Seconds_per_Mile'] / 60\n",
        "print(race_results['Minutes_per_Mile_decimal'].describe())"
      ],
      "execution_count": 6,
      "outputs": [
        {
          "output_type": "stream",
          "text": [
            "count    48.000000\n",
            "mean      8.889087\n",
            "std       1.494036\n",
            "min       6.723810\n",
            "25%       7.942857\n",
            "50%       8.485714\n",
            "75%       9.538095\n",
            "max      13.609524\n",
            "Name: Minutes_per_Mile_decimal, dtype: float64\n"
          ],
          "name": "stdout"
        }
      ]
    },
    {
      "cell_type": "markdown",
      "metadata": {
        "id": "N3SJpyfp0oSH",
        "colab_type": "text"
      },
      "source": [
        "# **Find the distribution of the paces of all the runners**"
      ]
    },
    {
      "cell_type": "code",
      "metadata": {
        "id": "KtK-AK7F0Hyx",
        "colab_type": "code",
        "colab": {
          "base_uri": "https://localhost:8080/",
          "height": 279
        },
        "outputId": "6659af53-72bb-4ff6-d09d-79149c101ddd"
      },
      "source": [
        "sns.distplot(race_results['Minutes_per_Mile_decimal'], kde=False)\n",
        "plt.xlabel('Pace(minutes)')\n",
        "plt.ylabel('Number of Runners')\n",
        "plt.show();"
      ],
      "execution_count": 7,
      "outputs": [
        {
          "output_type": "display_data",
          "data": {
            "image/png": "[encoded data removed]",
            "text/plain": [
              "<Figure size 432x288 with 1 Axes>"
            ]
          },
          "metadata": {
            "tags": [],
            "needs_background": "light"
          }
        }
      ]
    },
    {
      "cell_type": "markdown",
      "metadata": {
        "id": "mD5FtvDl2uWe",
        "colab_type": "text"
      },
      "source": [
        "## **Find the position of each runner relative to each other**\n",
        "We can use a \"swarm plot\" to plot each runner's pace."
      ]
    },
    {
      "cell_type": "code",
      "metadata": {
        "id": "9YlWJwok0Wvq",
        "colab_type": "code",
        "colab": {
          "base_uri": "https://localhost:8080/",
          "height": 279
        },
        "outputId": "26c012f8-33b5-4386-828d-3f9daa6edd92"
      },
      "source": [
        "sns.set_style('white')\n",
        "sns.swarmplot(x='Minutes_per_Mile_decimal', data=race_results, hue='B/G')\n",
        "plt.xlabel('Pace(minutes)')\n",
        "plt.show();"
      ],
      "execution_count": 8,
      "outputs": [
        {
          "output_type": "display_data",
          "data": {
            "image/png": "[encoded data removed]",
            "text/plain": [
              "<Figure size 432x288 with 1 Axes>"
            ]
          },
          "metadata": {
            "tags": []
          }
        }
      ]
    },
    {
      "cell_type": "markdown",
      "metadata": {
        "id": "LkqqFoQY588S",
        "colab_type": "text"
      },
      "source": [
        "# **Split the team into JV and Varsity**"
      ]
    },
    {
      "cell_type": "code",
      "metadata": {
        "id": "Vo73MoF-3JSN",
        "colab_type": "code",
        "colab": {
          "base_uri": "https://localhost:8080/",
          "height": 279
        },
        "outputId": "d7f7ab58-b327-49df-8770-258b93b311a8"
      },
      "source": [
        "sns.set_style('white')\n",
        "sns.swarmplot(x='Minutes_per_Mile_decimal', y='JV/V', data=race_results)\n",
        "plt.xlabel('Pace(minutes)')\n",
        "plt.show();"
      ],
      "execution_count": 9,
      "outputs": [
        {
          "output_type": "display_data",
          "data": {
            "image/png": "[encoded data removed]",
            "text/plain": [
              "<Figure size 432x288 with 1 Axes>"
            ]
          },
          "metadata": {
            "tags": []
          }
        }
      ]
    },
    {
      "cell_type": "markdown",
      "metadata": {
        "id": "97k0VyqC6mYG",
        "colab_type": "text"
      },
      "source": [
        "# **Show Boy and Girls**"
      ]
    },
    {
      "cell_type": "code",
      "metadata": {
        "id": "kb6UILOR6gER",
        "colab_type": "code",
        "colab": {
          "base_uri": "https://localhost:8080/",
          "height": 279
        },
        "outputId": "5b7c50ce-304c-42c5-a251-b2a251788440"
      },
      "source": [
        "sns.set_style('white')\n",
        "sns.swarmplot(x='Minutes_per_Mile_decimal', y='JV/V', data=race_results, hue='B/G', palette = ['blue', 'pink'])\n",
        "plt.xlabel('Pace(minutes)')\n",
        "plt.show();"
      ],
      "execution_count": 10,
      "outputs": [
        {
          "output_type": "display_data",
          "data": {
            "image/png": "[encoded data removed]",
            "text/plain": [
              "<Figure size 432x288 with 1 Axes>"
            ]
          },
          "metadata": {
            "tags": []
          }
        }
      ]
    },
    {
      "cell_type": "markdown",
      "metadata": {
        "id": "Boj8XbU17sQy",
        "colab_type": "text"
      },
      "source": [
        "# Compare by grade"
      ]
    },
    {
      "cell_type": "code",
      "metadata": {
        "id": "l9ZyUnnM6zXO",
        "colab_type": "code",
        "colab": {
          "base_uri": "https://localhost:8080/",
          "height": 279
        },
        "outputId": "f65ebd7a-8938-4d0e-dc86-d7944c075ffc"
      },
      "source": [
        "sns.set_style('white')\n",
        "sns.swarmplot(x='Minutes_per_Mile', y='CurrentGrade', data=race_results, hue='B/G', palette = ['blue', 'pink'])\n",
        "plt.xlabel('Pace(minutes)')\n",
        "plt.show();"
      ],
      "execution_count": 19,
      "outputs": [
        {
          "output_type": "display_data",
          "data": {
            "image/png": "[encoded data removed]",
            "text/plain": [
              "<Figure size 432x288 with 1 Axes>"
            ]
          },
          "metadata": {
            "tags": []
          }
        }
      ]
    },
    {
      "cell_type": "code",
      "metadata": {
        "id": "MXJ7Ibs1DAyF",
        "colab_type": "code",
        "colab": {}
      },
      "source": [
        ""
      ],
      "execution_count": null,
      "outputs": []
    }
  ]
}